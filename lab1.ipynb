{
  "nbformat": 4,
  "nbformat_minor": 0,
  "metadata": {
    "colab": {
      "provenance": [],
      "authorship_tag": "ABX9TyPWnmp3RVKpVbX6y4z1lVw1",
      "include_colab_link": true
    },
    "kernelspec": {
      "name": "python3",
      "display_name": "Python 3"
    },
    "language_info": {
      "name": "python"
    }
  },
  "cells": [
    {
      "cell_type": "markdown",
      "metadata": {
        "id": "view-in-github",
        "colab_type": "text"
      },
      "source": [
        "<a href=\"https://colab.research.google.com/github/Shikha18Shukla/Specialization-TT/blob/main/lab1.ipynb\" target=\"_parent\"><img src=\"https://colab.research.google.com/assets/colab-badge.svg\" alt=\"Open In Colab\"/></a>"
      ]
    },
    {
      "cell_type": "markdown",
      "source": [
        "# LAB 1 : Basic python code for revision"
      ],
      "metadata": {
        "id": "DYheeRBJI7US"
      }
    },
    {
      "cell_type": "code",
      "execution_count": null,
      "metadata": {
        "id": "Np0UZbrNnahe",
        "colab": {
          "base_uri": "https://localhost:8080/"
        },
        "outputId": "86d38b90-3094-424e-ac4c-79239398e67c"
      },
      "outputs": [
        {
          "output_type": "stream",
          "name": "stdout",
          "text": [
            "Float  values: 10.0 2.5\n",
            "Addition: 12.5\n",
            "subtraction: 7.5\n",
            "Multiplication: 25.0\n"
          ]
        }
      ],
      "source": [
        "a=10.\n",
        "b=2.5\n",
        "sum_val=a+b\n",
        "diff_val=a-b\n",
        "mul_value=a*b\n",
        "print(\"Float  values:\",a,b)\n",
        "print(\"Addition:\",sum_val)\n",
        "print(\"subtraction:\", diff_val)\n",
        "print(\"Multiplication:\",mul_value)"
      ]
    },
    {
      "cell_type": "code",
      "source": [
        "list1=[1,2,3,4,5]\n",
        "tuple1=(5,\"a\",33,\"b\",4)\n",
        "dictionary={1:\"one\",2:\"two\",3:\"three\"}\n",
        "set1={2,3,4,6,5,7,8,9}\n",
        "print(\"This is a list :\",list1)\n",
        "print(\"This is a tuple:\",tuple1)\n",
        "print(\"This is a dictionary:\", dictionary)\n",
        "print(\"This is a set:\",set1)\n"
      ],
      "metadata": {
        "colab": {
          "base_uri": "https://localhost:8080/"
        },
        "id": "icjqCmWxuMZ7",
        "outputId": "42a901fc-1d98-4013-d2db-72752bc8f1f8"
      },
      "execution_count": null,
      "outputs": [
        {
          "output_type": "stream",
          "name": "stdout",
          "text": [
            "This is a list : [1, 2, 3, 4, 5]\n",
            "This is a tuple: (5, 'a', 33, 'b', 4)\n",
            "This is a dictionary: {1: 'one', 2: 'two', 3: 'three'}\n",
            "This is a set: {2, 3, 4, 5, 6, 7, 8, 9}\n"
          ]
        }
      ]
    },
    {
      "cell_type": "code",
      "source": [
        "numbers=[1,2,3,4,5,6,7]\n",
        "numbers.append(8)\n",
        "numbers.remove(4)\n",
        "numbers[2]=22\n",
        "sum_list=sum(numbers)\n",
        "print(\"Updated list:\", numbers)\n",
        "print(\"Sum of list elements:\",sum_list)\n",
        "print(\"Last element of list:\", numbers[-1])"
      ],
      "metadata": {
        "colab": {
          "base_uri": "https://localhost:8080/"
        },
        "id": "bh5rim7uvIKu",
        "outputId": "2e3ee266-c548-47ae-e73e-83ee1aff29e2"
      },
      "execution_count": null,
      "outputs": [
        {
          "output_type": "stream",
          "name": "stdout",
          "text": [
            "Updated list: [1, 2, 22, 5, 6, 7, 8]\n",
            "Sum of list elements: 51\n",
            "Last element of list: 8\n"
          ]
        }
      ]
    },
    {
      "cell_type": "code",
      "source": [
        "fruits=[\"apple\", \"mango\", \"banana\",\"grapes\",\"peach\",\"watermelon\"]\n",
        "print(\"Fruits using for loop:\")\n",
        "for fruit in fruits:\n",
        "  print(fruit)"
      ],
      "metadata": {
        "colab": {
          "base_uri": "https://localhost:8080/"
        },
        "id": "MRKY3lSTvvYj",
        "outputId": "c571e0da-9d72-4cd0-a5f4-d81775d578b4"
      },
      "execution_count": null,
      "outputs": [
        {
          "output_type": "stream",
          "name": "stdout",
          "text": [
            "Fruits using for loop:\n",
            "apple\n",
            "mango\n",
            "banana\n",
            "grapes\n",
            "peach\n",
            "watermelon\n"
          ]
        }
      ]
    },
    {
      "cell_type": "code",
      "source": [
        "count=1\n",
        "print(\"counting with while loop\")\n",
        "while count<=9:\n",
        "  print(count)\n",
        "  count+=1"
      ],
      "metadata": {
        "colab": {
          "base_uri": "https://localhost:8080/"
        },
        "id": "flKKYwkqwLK7",
        "outputId": "dbae9d5e-f354-441b-f408-f175928181e4"
      },
      "execution_count": null,
      "outputs": [
        {
          "output_type": "stream",
          "name": "stdout",
          "text": [
            "counting with while loop\n",
            "1\n",
            "2\n",
            "3\n",
            "4\n",
            "5\n",
            "6\n",
            "7\n",
            "8\n",
            "9\n"
          ]
        }
      ]
    },
    {
      "cell_type": "code",
      "source": [
        "import numpy as np\n",
        "arr=np.array([1,2,3,4,5,6,7])\n",
        "mean_val=np.mean(arr)\n",
        "max_val=np.max(arr)\n",
        "min_val=np.min(arr)\n",
        "squared=np.square(arr)\n",
        "print(\"Array:\",arr)\n",
        "print(\"Mean:\",mean_val)\n",
        "print(\"Max :\",max_val)\n",
        "print(\"Min:\",min_val)\n",
        "print(\"squared array:\",squared)"
      ],
      "metadata": {
        "colab": {
          "base_uri": "https://localhost:8080/"
        },
        "id": "LWhHaApYwicO",
        "outputId": "bb61a12c-9ddf-42f3-f382-e3aaf0ba448e"
      },
      "execution_count": null,
      "outputs": [
        {
          "output_type": "stream",
          "name": "stdout",
          "text": [
            "Array: [1 2 3 4 5 6 7]\n",
            "Mean: 4.0\n",
            "Max : 7\n",
            "Min: 1\n",
            "squared array: [ 1  4  9 16 25 36 49]\n"
          ]
        }
      ]
    },
    {
      "cell_type": "code",
      "source": [
        "import pandas as pd\n",
        "data={\n",
        "    \"name\":[\"shikha\",\"ritika\",\"riya\"],\n",
        "    \"age\":[20,21,22],\n",
        "\n",
        "  }\n",
        "df=pd.DataFrame(data)\n",
        "print(\"DataFrame:\\n\",df)\n",
        "print(\"\\nFirst two rows:\\n\",df.head(2))\n",
        "print(\"\\nColumn Names:\\n\",df.columns.tolist())\n",
        "print(\"\\n Filter age>20:\\n\",df[df[\"age\"]>20])"
      ],
      "metadata": {
        "colab": {
          "base_uri": "https://localhost:8080/"
        },
        "id": "nH8F16FkxkCV",
        "outputId": "5e40d0e8-4000-4bfc-cb9e-329cf87bd3ad"
      },
      "execution_count": null,
      "outputs": [
        {
          "output_type": "stream",
          "name": "stdout",
          "text": [
            "DataFrame:\n",
            "      name  age\n",
            "0  shikha   20\n",
            "1  ritika   21\n",
            "2    riya   22\n",
            "\n",
            "First two rows:\n",
            "      name  age\n",
            "0  shikha   20\n",
            "1  ritika   21\n",
            "\n",
            "Column Names:\n",
            " ['name', 'age']\n",
            "\n",
            " Filter age>20:\n",
            "      name  age\n",
            "1  ritika   21\n",
            "2    riya   22\n"
          ]
        }
      ]
    },
    {
      "cell_type": "code",
      "source": [
        "import matplotlib.pyplot as plt\n",
        "x=[1,2,3,4,5,6]\n",
        "y=[i**2 for i in x]\n",
        "plt.plot(x,y,marker='o', linestyle='--')\n",
        "plt.title(\"Square Numbers\")\n",
        "plt.xlabel(\"x values\")\n",
        "plt.ylabel(\"square of x\")\n",
        "plt.show()\n"
      ],
      "metadata": {
        "colab": {
          "base_uri": "https://localhost:8080/",
          "height": 472
        },
        "id": "A0fGKldhxy3Z",
        "outputId": "397ab427-4ca4-42b9-c818-55bd9afd9ef7"
      },
      "execution_count": null,
      "outputs": [
        {
          "output_type": "display_data",
          "data": {
            "text/plain": [
              "<Figure size 640x480 with 1 Axes>"
            ],
            "image/png": "[encoded data removed]"
          },
          "metadata": {}
        }
      ]
    },
    {
      "cell_type": "code",
      "source": [
        "name=\"Shikha\"\n",
        "greeting=\"Good Morning\"\n",
        "concat=greeting + \" \" + name\n",
        "upper_case=name.upper()\n",
        "lower_case=greeting.lower()\n",
        "length=len(name)\n",
        "print(\"Original stings:\", name, greeting)\n",
        "print(\"Concatenation:\", concat)\n",
        "print(\"Length of name string:\", length)"
      ],
      "metadata": {
        "colab": {
          "base_uri": "https://localhost:8080/"
        },
        "id": "SISH3Pj1tF2_",
        "outputId": "9f52cad1-bca0-4b00-c106-f72213a69347"
      },
      "execution_count": null,
      "outputs": [
        {
          "output_type": "stream",
          "name": "stdout",
          "text": [
            "Original stings: Shikha Good Morning\n",
            "Concatenation: Good Morning Shikha\n",
            "Length of name string: 6\n"
          ]
        }
      ]
    },
    {
      "cell_type": "code",
      "source": [
        "import numpy as np\n",
        "arr=np.array([10,20,30,40,50])\n",
        "matrix=np.array([[1,2,3],[4,5,6]])\n",
        "print(\"1D Array:\",arr)\n",
        "print(\"2D Array:\", matrix)\n",
        "print(\"\\nSum:\",np.sum(arr))\n",
        "print(\"\\nArray + 5: \",arr+5)\n",
        "print(\"\\nArray * 2: \",arr*2)\n",
        "print(\"Array Squared:\", np.square(arr))\n",
        "print(\"\\nFirst Element:\",arr[0])\n",
        "print(\"Last two elements:\",arr[-2:])"
      ],
      "metadata": {
        "colab": {
          "base_uri": "https://localhost:8080/"
        },
        "id": "KhUlikfU2YtW",
        "outputId": "8a53755c-6391-4dad-932e-b15c7bff0d25"
      },
      "execution_count": null,
      "outputs": [
        {
          "output_type": "stream",
          "name": "stdout",
          "text": [
            "1D Array: [10 20 30 40 50]\n",
            "2D Array: [[1 2 3]\n",
            " [4 5 6]]\n",
            "\n",
            "Sum: 150\n",
            "\n",
            "Array + 5:  [15 25 35 45 55]\n",
            "\n",
            "Array * 2:  [ 20  40  60  80 100]\n",
            "Array Squared: [ 100  400  900 1600 2500]\n",
            "\n",
            "First Element: 10\n",
            "Last two elements: [40 50]\n"
          ]
        }
      ]
    },
    {
      "cell_type": "code",
      "source": [
        "import matplotlib.pyplot as plt\n",
        "values=[1,1,1,1,1,1,1,1,1,1]\n",
        "values=[1,2,1,1,8,4,10,1,2,2]\n",
        "plt.hist(values,bins=5)\n",
        "plt.title(\"Histogram Example\")\n",
        "plt.xlabel(\"value\")\n",
        "plt.ylabel(\"frequency\")\n",
        "plt.show()"
      ],
      "metadata": {
        "colab": {
          "base_uri": "https://localhost:8080/",
          "height": 472
        },
        "id": "eW5Xx88A4sDK",
        "outputId": "0ecedf49-9a1c-4f1d-f7da-c01412440608"
      },
      "execution_count": null,
      "outputs": [
        {
          "output_type": "display_data",
          "data": {
            "text/plain": [
              "<Figure size 640x480 with 1 Axes>"
            ],
            "image/png": "[encoded data removed]"
          },
          "metadata": {}
        }
      ]
    },
    {
      "cell_type": "code",
      "source": [
        "import matplotlib.pyplot as plt\n",
        "sizes=[20,30,40,50,60,70]\n",
        "labels=[\"apples\", \"mangos\",\"bananas\",\"grapes\",\"watermelons\",\"jackfruits\"]\n",
        "plt.pie(sizes,labels=labels)\n",
        "plt.title(\"PieChart Example\")\n",
        "plt.show()"
      ],
      "metadata": {
        "colab": {
          "base_uri": "https://localhost:8080/",
          "height": 428
        },
        "id": "HroA1r_N5vHa",
        "outputId": "91e58160-3940-4376-fd5a-8155d837440a"
      },
      "execution_count": null,
      "outputs": [
        {
          "output_type": "display_data",
          "data": {
            "text/plain": [
              "<Figure size 640x480 with 1 Axes>"
            ],
            "image/png": "[encoded data removed]"
          },
          "metadata": {}
        }
      ]
    }
  ]
}